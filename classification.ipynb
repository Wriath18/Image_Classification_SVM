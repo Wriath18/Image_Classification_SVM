{
 "cells": [
  {
   "cell_type": "code",
   "execution_count": 23,
   "metadata": {},
   "outputs": [],
   "source": [
    "import matplotlib.pyplot as plt\n",
    "import numpy as np\n",
    "import os\n",
    "from pathlib import Path\n",
    "import tensorflow.keras.utils as krs"
   ]
  },
  {
   "cell_type": "code",
   "execution_count": 100,
   "metadata": {},
   "outputs": [
    {
     "name": "stdout",
     "output_type": "stream",
     "text": [
      "images\\cats\n",
      "images\\dogs\n",
      "images\\horses\n",
      "images\\humans\n"
     ]
    }
   ],
   "source": [
    "p = Path(\"./images\")\n",
    "dirs = p.glob(\"*\")\n",
    "labels_dictionary = {\"cat\":0,\"dog\":1,\"horse\":2,\"human\":3}\n",
    "image_data = []\n",
    "labels = []\n",
    "\n",
    "for folder_dir in dirs:\n",
    "    print(folder_dir)\n",
    "    label = str(folder_dir).split('\\\\')[-1][:-1]\n",
    "    \n",
    "    for img_path in folder_dir.glob('*.jpg'):\n",
    "        img = krs.load_img(img_path, target_size=(32,32))\n",
    "        img_arr = krs.img_to_array(img)\n",
    "        image_data.append(img_arr)\n",
    "        labels.append(labels_dictionary[label])\n"
   ]
  },
  {
   "cell_type": "code",
   "execution_count": 101,
   "metadata": {},
   "outputs": [
    {
     "name": "stdout",
     "output_type": "stream",
     "text": [
      "808\n",
      "808\n"
     ]
    }
   ],
   "source": [
    "print(len(labels))\n",
    "print(len(image_data))"
   ]
  },
  {
   "cell_type": "code",
   "execution_count": 102,
   "metadata": {},
   "outputs": [],
   "source": [
    "image_data = np.array(image_data, dtype='float32')/255.0\n",
    "labels = np.array(labels)\n"
   ]
  },
  {
   "cell_type": "code",
   "execution_count": 103,
   "metadata": {},
   "outputs": [
    {
     "name": "stdout",
     "output_type": "stream",
     "text": [
      "(808, 32, 32, 3) (808,)\n"
     ]
    }
   ],
   "source": [
    "print(image_data.shape, labels.shape)"
   ]
  },
  {
   "cell_type": "markdown",
   "metadata": {},
   "source": [
    "Visualize the data"
   ]
  },
  {
   "cell_type": "code",
   "execution_count": 104,
   "metadata": {},
   "outputs": [
    {
     "data": {
      "image/png": "[encoded data removed]",
      "text/plain": [
       "<Figure size 640x480 with 1 Axes>"
      ]
     },
     "metadata": {},
     "output_type": "display_data"
    }
   ],
   "source": [
    "def image_vis(img):\n",
    "    plt.axis(\"off\")\n",
    "    plt.imshow(img)\n",
    "\n",
    "    return\n",
    "\n",
    "image_vis(image_data[5])"
   ]
  },
  {
   "cell_type": "markdown",
   "metadata": {},
   "source": [
    "Shuffle the data"
   ]
  },
  {
   "cell_type": "code",
   "execution_count": 105,
   "metadata": {},
   "outputs": [],
   "source": [
    "import random\n",
    "combined_data = list(zip(image_data, labels))\n",
    "random.shuffle(combined_data)\n",
    "\n",
    "image_data, labels = zip(*combined_data)\n",
    "image_data = np.array(list(image_data))\n",
    "labels = np.array(list(labels))"
   ]
  },
  {
   "cell_type": "code",
   "execution_count": 106,
   "metadata": {},
   "outputs": [
    {
     "name": "stdout",
     "output_type": "stream",
     "text": [
      "(808, 32, 32, 3)\n"
     ]
    }
   ],
   "source": [
    "print(image_data.shape)"
   ]
  },
  {
   "cell_type": "code",
   "execution_count": 107,
   "metadata": {},
   "outputs": [
    {
     "name": "stdout",
     "output_type": "stream",
     "text": [
      "[[[0.99215686 0.98039216 0.92156863]\n",
      "  [0.99607843 0.99215686 0.92156863]\n",
      "  [0.7137255  0.6901961  0.5882353 ]\n",
      "  ...\n",
      "  [0.39607844 0.4        0.38039216]\n",
      "  [0.4509804  0.45490196 0.43529412]\n",
      "  [0.49411765 0.49803922 0.46666667]]\n",
      "\n",
      " [[0.4392157  0.42352942 0.38039216]\n",
      "  [0.5254902  0.50980395 0.46666667]\n",
      "  [0.45882353 0.44313726 0.40784314]\n",
      "  ...\n",
      "  [0.4        0.4        0.39215687]\n",
      "  [0.47843137 0.48235294 0.4627451 ]\n",
      "  [0.41568628 0.41960785 0.4       ]]\n",
      "\n",
      " [[0.5019608  0.45882353 0.44313726]\n",
      "  [0.49019608 0.4627451  0.43137255]\n",
      "  [0.8627451  0.78039217 0.6745098 ]\n",
      "  ...\n",
      "  [0.6901961  0.65882355 0.5686275 ]\n",
      "  [0.54901963 0.54901963 0.5019608 ]\n",
      "  [0.48235294 0.4862745  0.43137255]]\n",
      "\n",
      " ...\n",
      "\n",
      " [[0.36862746 0.41960785 0.48235294]\n",
      "  [0.4        0.44705883 0.5019608 ]\n",
      "  [0.23529412 0.29803923 0.35686275]\n",
      "  ...\n",
      "  [0.69803923 0.68235296 0.6392157 ]\n",
      "  [0.8117647  0.8235294  0.78039217]\n",
      "  [0.80784315 0.8235294  0.81960785]]\n",
      "\n",
      " [[0.10196079 0.14509805 0.21568628]\n",
      "  [0.10588235 0.14901961 0.21960784]\n",
      "  [0.10196079 0.14901961 0.21176471]\n",
      "  ...\n",
      "  [0.47843137 0.4627451  0.41960785]\n",
      "  [0.7372549  0.76862746 0.8117647 ]\n",
      "  [0.79607844 0.81960785 0.8117647 ]]\n",
      "\n",
      " [[0.08235294 0.11764706 0.14509805]\n",
      "  [0.08627451 0.12156863 0.14901961]\n",
      "  [0.07450981 0.10588235 0.15686275]\n",
      "  ...\n",
      "  [0.4627451  0.4509804  0.43137255]\n",
      "  [0.5647059  0.5647059  0.5647059 ]\n",
      "  [0.80784315 0.7882353  0.8117647 ]]] 1\n"
     ]
    }
   ],
   "source": [
    "print(image_data[5], labels[5])"
   ]
  },
  {
   "cell_type": "code",
   "execution_count": 108,
   "metadata": {},
   "outputs": [
    {
     "name": "stdout",
     "output_type": "stream",
     "text": [
      "1\n"
     ]
    },
    {
     "data": {
      "image/png": "[encoded data removed]",
      "text/plain": [
       "<Figure size 640x480 with 1 Axes>"
      ]
     },
     "metadata": {},
     "output_type": "display_data"
    }
   ],
   "source": [
    "image_vis(image_data[5])\n",
    "print(labels[5])"
   ]
  },
  {
   "cell_type": "code",
   "execution_count": 129,
   "metadata": {},
   "outputs": [],
   "source": [
    "class SVM:\n",
    "    def __init__(self, C=1.0):\n",
    "        self.C = C\n",
    "        self.W = 0\n",
    "        self.b = 0\n",
    "\n",
    "    def hingeloss(self, W, Y, X, b):\n",
    "        loss = 0.0\n",
    "        loss += (np.dot(W,W.T))/2\n",
    "        for i in range(X.shape[0]):\n",
    "            ti = Y[i] * (np.dot(W,X[i].T) + b)\n",
    "            loss += self.C * max(0, (1-ti))\n",
    "        return loss[0][0]\n",
    "    \n",
    "    def fit(self, X, Y, batch_size = 100, learning_rate = 0.001):\n",
    "        no_of_features = X.shape[1]\n",
    "        no_of_samples = X.shape[0]\n",
    "\n",
    "        n = learning_rate\n",
    "        c = self.C\n",
    "\n",
    "        w = np.zeros((1, no_of_features))\n",
    "        bias = 0\n",
    "        print(self.hingeloss(w, Y, X, bias))\n",
    "\n",
    "        losses = []\n",
    "\n",
    "        for i in range(300):\n",
    "            l = self.hingeloss(w,Y,X,bias)\n",
    "            ids = np.arange(no_of_samples)\n",
    "            np.random.shuffle(ids)\n",
    "\n",
    "            for batch_start in range(0, no_of_samples, batch_size):\n",
    "                gradw = 0\n",
    "                gradb = 0\n",
    "\n",
    "                for j in range(batch_start, batch_start+batch_size):\n",
    "                    if j < no_of_samples:\n",
    "                        i = ids[j]\n",
    "                        ti = Y[i]*(np.dot(w,X[i].T)+bias)\n",
    "                        if ti>1:\n",
    "                            pass\n",
    "                        elif ti<1:\n",
    "                            gradw+= c*Y[i]*X[i]\n",
    "                            gradb += c*Y[i]\n",
    "\n",
    "                w = w - learning_rate*w + learning_rate*gradw\n",
    "                bias = bias + learning_rate*gradb\n",
    "            losses.append(l)\n",
    "\n",
    "        self.W = w\n",
    "        self.b = bias\n",
    "        return w, bias, losses\n",
    "\n",
    "\n",
    "\n",
    "\n"
   ]
  },
  {
   "cell_type": "markdown",
   "metadata": {},
   "source": [
    "One vs one classification"
   ]
  },
  {
   "cell_type": "code",
   "execution_count": 130,
   "metadata": {},
   "outputs": [
    {
     "name": "stdout",
     "output_type": "stream",
     "text": [
      "(808, 3072)\n",
      "(808,)\n"
     ]
    }
   ],
   "source": [
    "M = image_data.shape[0]\n",
    "image_data = image_data.reshape(M,-1)\n",
    "print(image_data.shape)\n",
    "print(labels.shape)"
   ]
  },
  {
   "cell_type": "code",
   "execution_count": 131,
   "metadata": {},
   "outputs": [],
   "source": [
    "no_of_classes = 4\n",
    "def classwisedata(X,Y):\n",
    "    data = {}\n",
    "    for i in range(4):\n",
    "        data[i] = []\n",
    "\n",
    "    for i in range(image_data.shape[0]):\n",
    "        data[Y[i]].append(X[i])\n",
    "\n",
    "    for j in data.keys():\n",
    "        data[j] = np.array(data[j])\n",
    "\n",
    "    return data"
   ]
  },
  {
   "cell_type": "code",
   "execution_count": 132,
   "metadata": {},
   "outputs": [
    {
     "name": "stdout",
     "output_type": "stream",
     "text": [
      "202\n"
     ]
    }
   ],
   "source": [
    "data = classwisedata(image_data, labels)\n",
    "print(data[3].shape[0])"
   ]
  },
  {
   "cell_type": "markdown",
   "metadata": {},
   "source": [
    "creating data pairs for one vs one classification method"
   ]
  },
  {
   "cell_type": "code",
   "execution_count": 133,
   "metadata": {},
   "outputs": [],
   "source": [
    "def getpairforsvm(d1,d2):\n",
    "    print(d1.shape)\n",
    "    print(d2.shape)\n",
    "    l1,l2 = d1.shape[0], d2.shape[0]\n",
    "    samples = l1+l2\n",
    "    features = d1.shape[1]\n",
    "    data_pair = np.zeros((samples, features))\n",
    "    data_labels = np.zeros((samples,))\n",
    "\n",
    "    data_pair[:l1,:] = d1\n",
    "    data_pair[l1:,:] = d2\n",
    "\n",
    "    data_labels[:l1] = -1\n",
    "    data_labels[l1:] = +1\n",
    "\n",
    "    return data_labels, data_pair"
   ]
  },
  {
   "cell_type": "code",
   "execution_count": 134,
   "metadata": {},
   "outputs": [],
   "source": [
    "mySVM = SVM()\n",
    "\n",
    "def trainSVM(X,Y):\n",
    "    svm_classifier = {}\n",
    "    for i in range(4):\n",
    "        svm_classifier[i] = {}\n",
    "        for j in range(i+1, 4):\n",
    "            Ypair, Xpair = getpairforsvm(data[i], data[j])\n",
    "            w,b,loss = mySVM.fit(Xpair, Ypair)\n",
    "            svm_classifier[i][j] = (w,b)\n",
    "\n",
    "    return svm_classifier"
   ]
  },
  {
   "cell_type": "code",
   "execution_count": 135,
   "metadata": {},
   "outputs": [
    {
     "name": "stdout",
     "output_type": "stream",
     "text": [
      "(202, 3072)\n",
      "(202, 3072)\n",
      "404.0\n",
      "(202, 3072)\n",
      "(202, 3072)\n",
      "404.0\n",
      "(202, 3072)\n",
      "(202, 3072)\n",
      "404.0\n",
      "(202, 3072)\n",
      "(202, 3072)\n",
      "404.0\n",
      "(202, 3072)\n",
      "(202, 3072)\n",
      "404.0\n",
      "(202, 3072)\n",
      "(202, 3072)\n",
      "404.0\n"
     ]
    }
   ],
   "source": [
    "svm_classifier = trainSVM(image_data, labels)"
   ]
  },
  {
   "cell_type": "code",
   "execution_count": 124,
   "metadata": {},
   "outputs": [
    {
     "data": {
      "text/plain": [
       "(808, 3072)"
      ]
     },
     "execution_count": 124,
     "metadata": {},
     "output_type": "execute_result"
    }
   ],
   "source": [
    "image_data.shape"
   ]
  },
  {
   "cell_type": "code",
   "execution_count": 137,
   "metadata": {},
   "outputs": [
    {
     "name": "stdout",
     "output_type": "stream",
     "text": [
      "(1, 3072)\n",
      "-0.43399999999999955\n"
     ]
    }
   ],
   "source": [
    "cats_dogs = svm_classifier[0][1]\n",
    "print(cats_dogs[0].shape)\n",
    "print(cats_dogs[1])"
   ]
  },
  {
   "cell_type": "code",
   "execution_count": 149,
   "metadata": {},
   "outputs": [],
   "source": [
    "def binarypredict(x,w,b):\n",
    "    z = np.dot(x,w.T) + b\n",
    "    if z >= 0:\n",
    "        return 1\n",
    "    else:\n",
    "        return 0"
   ]
  },
  {
   "cell_type": "code",
   "execution_count": 152,
   "metadata": {},
   "outputs": [],
   "source": [
    "def predict(X):\n",
    "    count = np.zeros((4,))\n",
    "\n",
    "    for i in range(4):\n",
    "        for j in range(i+1, 4):\n",
    "            w,b = svm_classifier[i][j]\n",
    "            z = binarypredict(X,w,b)\n",
    "            if z == 1:\n",
    "                count[j] += 1\n",
    "            else:\n",
    "                count[i] += 1\n",
    "    final_prediction = np.argmax(count)\n",
    "    return final_prediction"
   ]
  },
  {
   "cell_type": "code",
   "execution_count": 157,
   "metadata": {},
   "outputs": [
    {
     "name": "stdout",
     "output_type": "stream",
     "text": [
      "3\n",
      "3\n"
     ]
    }
   ],
   "source": [
    "print(predict(image_data[0]))\n",
    "print(labels[0])"
   ]
  },
  {
   "cell_type": "code",
   "execution_count": null,
   "metadata": {},
   "outputs": [],
   "source": []
  }
 ],
 "metadata": {
  "kernelspec": {
   "display_name": "Python 3",
   "language": "python",
   "name": "python3"
  },
  "language_info": {
   "codemirror_mode": {
    "name": "ipython",
    "version": 3
   },
   "file_extension": ".py",
   "mimetype": "text/x-python",
   "name": "python",
   "nbconvert_exporter": "python",
   "pygments_lexer": "ipython3",
   "version": "3.10.11"
  }
 },
 "nbformat": 4,
 "nbformat_minor": 2
}
