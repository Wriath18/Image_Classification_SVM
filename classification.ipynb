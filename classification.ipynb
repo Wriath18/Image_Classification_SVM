{
 "cells": [
  {
   "cell_type": "code",
   "execution_count": 23,
   "metadata": {},
   "outputs": [],
   "source": [
    "import matplotlib.pyplot as plt\n",
    "import numpy as np\n",
    "import os\n",
    "from pathlib import Path\n",
    "import tensorflow.keras.utils as krs"
   ]
  },
  {
   "cell_type": "code",
   "execution_count": 27,
   "metadata": {},
   "outputs": [
    {
     "name": "stdout",
     "output_type": "stream",
     "text": [
      "images\\cats\n",
      "images\\dogs\n",
      "images\\horses\n",
      "images\\humans\n"
     ]
    }
   ],
   "source": [
    "p = Path(\"./images\")\n",
    "dirs = p.glob(\"*\")\n",
    "labels_dictionary = {\"cat\":0,\"dog\":1,\"horse\":2,\"human\":3}\n",
    "image_data = []\n",
    "labels = []\n",
    "\n",
    "for folder_dir in dirs:\n",
    "    print(folder_dir)\n",
    "    label = str(folder_dir).split('\\\\')[-1][:-1]\n",
    "    \n",
    "    for img_path in folder_dir.glob('*.jpg'):\n",
    "        img = krs.load_img(img_path, target_size=(100,100))\n",
    "        img_arr = krs.img_to_array(img)\n",
    "        image_data.append(img_arr)\n",
    "        labels.append(labels_dictionary[label])\n"
   ]
  },
  {
   "cell_type": "code",
   "execution_count": 29,
   "metadata": {},
   "outputs": [
    {
     "name": "stdout",
     "output_type": "stream",
     "text": [
      "808\n",
      "808\n"
     ]
    }
   ],
   "source": [
    "print(len(labels))\n",
    "print(len(image_data))"
   ]
  },
  {
   "cell_type": "code",
   "execution_count": null,
   "metadata": {},
   "outputs": [],
   "source": []
  }
 ],
 "metadata": {
  "kernelspec": {
   "display_name": "Python 3",
   "language": "python",
   "name": "python3"
  },
  "language_info": {
   "codemirror_mode": {
    "name": "ipython",
    "version": 3
   },
   "file_extension": ".py",
   "mimetype": "text/x-python",
   "name": "python",
   "nbconvert_exporter": "python",
   "pygments_lexer": "ipython3",
   "version": "3.10.11"
  }
 },
 "nbformat": 4,
 "nbformat_minor": 2
}
